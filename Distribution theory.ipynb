{
 "cells": [
  {
   "cell_type": "markdown",
   "metadata": {},
   "source": [
    "# Binomial distn"
   ]
  },
  {
   "cell_type": "code",
   "execution_count": 53,
   "metadata": {},
   "outputs": [
    {
     "name": "stdout",
     "output_type": "stream",
     "text": [
      "150\n",
      "4\n",
      "[0.19753086 0.39506173 0.2962963  0.09876543 0.01234568]\n",
      "[30. 59. 44. 15.  2.]\n",
      "150.0\n",
      "0.9061965618296626\n",
      "5.991464547107979\n",
      "0.6356556577368107\n"
     ]
    }
   ],
   "source": [
    "import numpy as np\n",
    "import scipy\n",
    "import scipy.stats\n",
    "x=[0,1,2,3,4]\n",
    "f=[28,62,46,10,4]\n",
    "print(sum(f))\n",
    "n=np.max(x);\n",
    "N=np.sum(f)\n",
    "print(n)\n",
    "p=(np.average(x,weights=f))/n\n",
    "d=scipy.stats.binom.pmf(x,n,p)\n",
    "print(d)\n",
    "ex=np.round(N*d,0)\n",
    "print(ex)\n",
    "print(sum(ex))\n",
    "e=[30,59,44,17]\n",
    "o=[28,62,46,14]\n",
    "chi=0\n",
    "for i in range(0,4):\n",
    "    chi=chi+(((o[i]-e[i])**2)/e[i])\n",
    "print(chi)\n",
    "print(scipy.stats.chi2.ppf(0.95,2))\n",
    "print(scipy.stats.chi2.sf(chi,2))"
   ]
  },
  {
   "cell_type": "markdown",
   "metadata": {},
   "source": [
    "# Poisson Distn"
   ]
  },
  {
   "cell_type": "code",
   "execution_count": 98,
   "metadata": {},
   "outputs": [
    {
     "name": "stdout",
     "output_type": "stream",
     "text": [
      "325\n",
      "0.44\n",
      "[209.  92.  20.   3.   0.]\n",
      "325\n",
      "0.06261701685042646\n",
      "3.841458820694124\n",
      "0.8024064518194011\n"
     ]
    }
   ],
   "source": [
    "import scipy\n",
    "from scipy.stats import poisson\n",
    "import numpy as np\n",
    "import scipy.stats\n",
    "x=[0,1,2,3,4]\n",
    "f=[211,90,19,5,0]\n",
    "N=sum(f)\n",
    "print(N)\n",
    "a=np.average(x,weights=f)\n",
    "print(a)\n",
    "p=poisson.pmf(k=x,mu=a)\n",
    "ex=np.round(N*p,0)\n",
    "print(ex)\n",
    "\n",
    "e=[209,92,24]\n",
    "o=[211,90,24]\n",
    "print(sum(e))\n",
    "chi=0\n",
    "for i in range (0,3):\n",
    "    chi=chi+(((o[i]-e[i])**2)/e[i])\n",
    "print(chi)\n",
    "print(scipy.stats.chi2.ppf(0.95,1))\n",
    "print(scipy.stats.chi2.sf(chi,1))"
   ]
  },
  {
   "cell_type": "markdown",
   "metadata": {},
   "source": [
    "# Geometeric Distn"
   ]
  },
  {
   "cell_type": "code",
   "execution_count": 107,
   "metadata": {},
   "outputs": [
    {
     "name": "stdout",
     "output_type": "stream",
     "text": [
      "650\n",
      "0.6827731092436975\n",
      "[  0. 444. 141.  45.  14.   4.]\n",
      "648.0\n"
     ]
    }
   ],
   "source": [
    "from scipy.stats import geom\n",
    "x=[0,1,2,3,4,5]\n",
    "f=[450,132,41,22,3,2]\n",
    "print(sum (f))\n",
    "a=np.average(x,weights=f)\n",
    "p=(1/(1+a))\n",
    "print(p)\n",
    "N=sum(f)\n",
    "g=geom.pmf(x,p)\n",
    "ex=np.round(N*g,0)\n",
    "print(ex)\n",
    "print(sum(ex))"
   ]
  },
  {
   "cell_type": "markdown",
   "metadata": {},
   "source": [
    "# negative binomial"
   ]
  },
  {
   "cell_type": "code",
   "execution_count": 113,
   "metadata": {},
   "outputs": [
    {
     "ename": "AttributeError",
     "evalue": "'list' object has no attribute 'var'",
     "output_type": "error",
     "traceback": [
      "\u001b[1;31m---------------------------------------------------------------------------\u001b[0m",
      "\u001b[1;31mAttributeError\u001b[0m                            Traceback (most recent call last)",
      "Cell \u001b[1;32mIn[113], line 7\u001b[0m\n\u001b[0;32m      5\u001b[0m f\u001b[38;5;241m=\u001b[39m[\u001b[38;5;241m450\u001b[39m,\u001b[38;5;241m132\u001b[39m,\u001b[38;5;241m41\u001b[39m,\u001b[38;5;241m22\u001b[39m,\u001b[38;5;241m3\u001b[39m,\u001b[38;5;241m2\u001b[39m]\n\u001b[0;32m      6\u001b[0m a\u001b[38;5;241m=\u001b[39mnp\u001b[38;5;241m.\u001b[39maverage(x,weights\u001b[38;5;241m=\u001b[39mf)\n\u001b[1;32m----> 7\u001b[0m v\u001b[38;5;241m=\u001b[39m\u001b[43m[\u001b[49m\u001b[43mx\u001b[49m\u001b[43m,\u001b[49m\u001b[43mf\u001b[49m\u001b[43m]\u001b[49m\u001b[38;5;241;43m.\u001b[39;49m\u001b[43mvar\u001b[49m()\n\u001b[0;32m      8\u001b[0m \u001b[38;5;28mprint\u001b[39m(v)\n",
      "\u001b[1;31mAttributeError\u001b[0m: 'list' object has no attribute 'var'"
     ]
    }
   ],
   "source": [
    "import numpy as np\n",
    "import pandas\n",
    "import scipy\n",
    "x=[0,1,2,3,4,5]\n",
    "f=[450,132,41,22,3,2]\n",
    "a=np.average(x,weights=f)\n",
    "v=[x,f].var()\n",
    "print(v)\n"
   ]
  },
  {
   "cell_type": "markdown",
   "metadata": {},
   "source": [
    "# Normal Distn\n"
   ]
  },
  {
   "cell_type": "code",
   "execution_count": 155,
   "metadata": {},
   "outputs": [
    {
     "name": "stdout",
     "output_type": "stream",
     "text": [
      "[np.float64(17.05), np.float64(24.75), np.float64(32.45), np.float64(40.15), np.float64(47.85), np.float64(55.55), np.float64(63.25), np.float64(70.95), np.float64(78.65), np.float64(86.35)]\n",
      "203.24019099999998\n",
      "[0.00413113 0.01781847 0.05926999 0.15367066 0.31536415 0.52368826\n",
      " 0.72558932 0.87278223 0.95349764 0.98678624 0.99710981]\n",
      "200\n",
      "[0.01368734 0.04145152 0.09440068 0.16169349 0.20832411 0.20190105\n",
      " 0.14719291 0.08071542 0.0332886  0.01032357]\n",
      "[ 2.73746841  8.29030351 18.88013518 32.33869764 41.66482234 40.38021082\n",
      " 29.43858145 16.14308369  6.65771905  2.06471318]\n",
      "2.5031755525176576\n",
      "11.070497693516351\n",
      "0.77601675083272\n"
     ]
    }
   ],
   "source": [
    "import numpy as np\n",
    "import scipy.stats\n",
    "import math\n",
    "l=[13.2,20.9,28.6,36.3,44.0,51.7,59.4,67.1,74.8,82.5,90.2]\n",
    "f=[2,10,16,37,43,39,29,13,6,5]\n",
    "x=[]\n",
    "for i in range(0,len(l)-1):\n",
    "    x.append(np.round((l[i]+l[i+1])/2,2))\n",
    "print(x)\n",
    "a=np.average(x,weights=f)\n",
    "v=0\n",
    "for i in range (0,len(x)):\n",
    "    v=v+((f[i]*(x[i]-a)**2)/sum(f))\n",
    "print(v)\n",
    "p=scipy.stats.norm(a,math.sqrt(v)).cdf(l)\n",
    "print(p)\n",
    "pdf=[]\n",
    "for i in range (0,len(l)-1):\n",
    "    d=p[i+1]-p[i]\n",
    "    pdf.append(d)\n",
    "N=sum(f)\n",
    "print(N)\n",
    "pdf=np.array(pdf)\n",
    "print(pdf)\n",
    "ex=N*pdf\n",
    "print(ex)\n",
    "e=[3,8,19,33,42,40,29,16,10]\n",
    "o=[2,10,16,37,43,39,29,13,11]\n",
    "chi=0\n",
    "for i in range (0,len(e)):\n",
    "    chi=chi+((o[i]-e[i])**2)/e[i]\n",
    "print(chi)\n",
    "print(scipy.stats.chi2.ppf(0.95,5))\n",
    "print(scipy.stats.chi2.sf(chi,5))"
   ]
  },
  {
   "cell_type": "markdown",
   "metadata": {},
   "source": [
    "# Lognormal Distn"
   ]
  },
  {
   "cell_type": "code",
   "execution_count": null,
   "metadata": {},
   "outputs": [],
   "source": []
  }
 ],
 "metadata": {
  "kernelspec": {
   "display_name": "Python 3",
   "language": "python",
   "name": "python3"
  },
  "language_info": {
   "codemirror_mode": {
    "name": "ipython",
    "version": 3
   },
   "file_extension": ".py",
   "mimetype": "text/x-python",
   "name": "python",
   "nbconvert_exporter": "python",
   "pygments_lexer": "ipython3",
   "version": "3.12.5"
  }
 },
 "nbformat": 4,
 "nbformat_minor": 2
}
