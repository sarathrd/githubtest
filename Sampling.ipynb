{
 "cells": [
  {
   "cell_type": "code",
   "execution_count": 12,
   "metadata": {},
   "outputs": [
    {
     "name": "stdout",
     "output_type": "stream",
     "text": [
      "[40. 30. 50. 60. 20.]\n",
      "[10. 15. 52. 87. 36.]\n",
      "0.7385079552719794\n"
     ]
    }
   ],
   "source": [
    "import numpy as np\n",
    "import pandas as pd \n",
    "ni=np.array([200,150,250,300,100])\n",
    "mean=np.array([10.5,16.5,18,20,15])\n",
    "sd=np.array([2.5,5.3,10.8,15,18.5])\n",
    "N=sum(ni)\n",
    "wi=ni/N\n",
    "n=200\n",
    "nip=np.round(n*wi,0)\n",
    "print(nip)\n",
    "nin=(n*ni*sd)/sum(ni*sd)\n",
    "print(np.round(nin,0))\n",
    "sdp=((N-n)/(N*n))*sum(wi*sd**2)\n",
    "print(np.sqrt(sdp))"
   ]
  }
 ],
 "metadata": {
  "kernelspec": {
   "display_name": "Python 3",
   "language": "python",
   "name": "python3"
  },
  "language_info": {
   "codemirror_mode": {
    "name": "ipython",
    "version": 3
   },
   "file_extension": ".py",
   "mimetype": "text/x-python",
   "name": "python",
   "nbconvert_exporter": "python",
   "pygments_lexer": "ipython3",
   "version": "3.12.5"
  }
 },
 "nbformat": 4,
 "nbformat_minor": 2
}
